{
  "nbformat": 4,
  "nbformat_minor": 0,
  "metadata": {
    "colab": {
      "provenance": []
    },
    "kernelspec": {
      "name": "python3",
      "display_name": "Python 3"
    },
    "language_info": {
      "name": "python"
    }
  },
  "cells": [
    {
      "cell_type": "code",
      "source": [
        "import pandas as pd\n",
        "\n",
        "# 1. Chargement du fichier CSV avec le bon séparateur\n",
        "df = pd.read_csv(\"2017-elections.csv\", encoding=\"ISO-8859-1\", sep=\";\", on_bad_lines='skip')\n",
        "\n",
        "# 2. Affichage des colonnes pour vérification\n",
        "print(\"Colonnes disponibles :\", df.columns.tolist())\n",
        "\n",
        "# 3. Colonnes de base pour l’identification de la commune\n",
        "colonnes_debut = [\n",
        "    \"Code du département\",\n",
        "    \"Libellé du département\",\n",
        "    \"Code de la commune\",\n",
        "    \"Libellé de la commune\",\n",
        "]\n",
        "\n",
        "# 4. Colonnes des candidats (nom, prénom, voix)\n",
        "colonnes_candidats = []\n",
        "for i in range(1, 12):\n",
        "    nom = f\"Nom{i if i > 1 else ''}\"\n",
        "    prenom = f\"Prénom{i if i > 1 else ''}\"\n",
        "    voix = f\"Voix{i if i > 1 else ''}\"\n",
        "    if nom in df.columns and prenom in df.columns and voix in df.columns:\n",
        "        colonnes_candidats.extend([nom, prenom, voix])\n",
        "\n",
        "# 5. Sélectionner uniquement les colonnes utiles\n",
        "colonnes = colonnes_debut + colonnes_candidats\n",
        "df = df[colonnes]\n",
        "\n",
        "# 6. Transformer les données en format long (1 ligne = 1 candidat dans 1 commune)\n",
        "data = []\n",
        "for i in range(1, 12):\n",
        "    nom_col = f\"Nom{i if i > 1 else ''}\"\n",
        "    prenom_col = f\"Prénom{i if i > 1 else ''}\"\n",
        "    voix_col = f\"Voix{i if i > 1 else ''}\"\n",
        "    if nom_col in df.columns and prenom_col in df.columns and voix_col in df.columns:\n",
        "        temp = df[colonnes_debut + [nom_col, prenom_col, voix_col]].copy()\n",
        "        temp.columns = colonnes_debut + [\"Nom\", \"Prénom\", \"Voix\"]\n",
        "        temp[\"Candidat\"] = temp[\"Prénom\"].fillna(\"\") + \" \" + temp[\"Nom\"].fillna(\"\")\n",
        "        temp = temp[colonnes_debut + [\"Candidat\", \"Voix\"]]\n",
        "        data.append(temp)\n",
        "\n",
        "df_long = pd.concat(data, ignore_index=True)\n",
        "\n",
        "# 7. Nettoyage\n",
        "df_long = df_long.dropna(subset=[\"Candidat\", \"Voix\"])\n",
        "df_long[\"Voix\"] = pd.to_numeric(df_long[\"Voix\"].astype(str).str.replace(\" \", \"\"), errors=\"coerce\")\n",
        "df_long = df_long.dropna(subset=[\"Voix\"])\n",
        "df_long = df_long[df_long[\"Voix\"] > 0]\n",
        "\n",
        "# 8. Trouver le gagnant par commune\n",
        "df_winner = df_long.sort_values(\"Voix\", ascending=False).drop_duplicates(\n",
        "    subset=[\"Code du département\", \"Code de la commune\"]\n",
        ")\n",
        "\n",
        "# 9. Sauvegarder dans un fichier CSV\n",
        "df_winner = df_winner[\n",
        "    [\"Code du département\", \"Libellé du département\", \"Code de la commune\", \"Libellé de la commune\", \"Candidat\", \"Voix\"]\n",
        "]\n",
        "df_winner.to_csv(\"gagnant_par_commune2017.csv\", index=False, encoding=\"utf-8\")\n",
        "\n",
        "print(\"✅ Fichier 'gagnant_par_commune2017.csv' enregistré avec succès.\")\n"
      ],
      "metadata": {
        "colab": {
          "base_uri": "https://localhost:8080/"
        },
        "id": "foFvj2BwGFAN",
        "outputId": "9f432c09-9173-4372-f4ce-c0cbfc404390"
      },
      "execution_count": 1,
      "outputs": [
        {
          "output_type": "stream",
          "name": "stderr",
          "text": [
            "<ipython-input-1-9b88bb0b7ac2>:4: DtypeWarning: Columns (0,6) have mixed types. Specify dtype option on import or set low_memory=False.\n",
            "  df = pd.read_csv(\"2017-elections.csv\", encoding=\"ISO-8859-1\", sep=\";\", on_bad_lines='skip')\n"
          ]
        },
        {
          "output_type": "stream",
          "name": "stdout",
          "text": [
            "Colonnes disponibles : ['Code du département', 'Libellé du département', 'Code de la circonscription', 'Libellé de la circonscription', 'Code de la commune', 'Libellé de la commune', 'Code du b.vote', 'Inscrits', 'Abstentions', '% Abs/Ins', 'Votants', '% Vot/Ins', 'Blancs', '% Blancs/Ins', '% Blancs/Vot', 'Nuls', '% Nuls/Ins', '% Nuls/Vot', 'Exprimés', '% Exp/Ins', '% Exp/Vot', 'N°Panneau', 'Sexe', 'Nom', 'Prénom', 'Voix', '% Voix/Ins', '% Voix/Exp', 'N°Panneau2', 'Sexe2', 'Nom2', 'Prénom2', 'Voix2', '%Voix/Ins', '%Voix/Exp', 'N°Panneau3', 'Sexe3', 'Nom3', 'Prénom3', 'Voix3', '%Voix/Ins.1', '%Voix/Exp.1', 'N°Panneau4', 'Sexe4', 'Nom4', 'Prénom4', 'Voix4', '%Voix/Ins.2', '%Voix/Exp.2', 'N°Panneau5', 'Sexe5', 'Nom5', 'Prénom5', 'Voix5', '%Voix/Ins.3', '%Voix/exp', 'N°Panneau6', 'Sexe6', 'Nom6', 'Prénom6', 'Voix6', '%Voix/Ins.4', '%Voix/Exp.3', 'N°Pannezu7', 'Sexe7', 'Nom7', 'Prénom7', 'Voix7', '%Voix/Ins.5', '%Voix/Exp.4', 'N°Panneau8', 'Sexe8', 'Nom8', 'Prénom8', 'Voix8', '%Voix/Ins.6', '%Voix/Exp.5', 'N°Panneau.1', 'Sexe9', 'Nom9', 'Prénom9', 'Voix9', '%Voix/Ins.7', '%Voix/Exp.6', 'N°Panneau10', 'Sexe10', 'Nom10', 'Prénom10', 'Voix10', '%Voix/Ins.8', '%Voix/Exp.7', 'N°Panneau11', 'Sexe11', 'Nom11', 'Prénom11', 'Voix11', '%Voix/Ins.9', '%Voix/Exp.8']\n",
            "✅ Fichier 'gagnant_par_commune2017.csv' enregistré avec succès.\n"
          ]
        }
      ]
    },
    {
      "cell_type": "code",
      "source": [
        "import pandas as pd\n",
        "\n",
        "# 1. Chargement du fichier CSV avec le bon séparateur\n",
        "df = pd.read_csv(\"2022-elections.csv\", encoding=\"ISO-8859-1\", sep=\";\", on_bad_lines='skip')\n",
        "\n",
        "# 2. Affichage des colonnes pour vérification\n",
        "print(\"Colonnes disponibles :\", df.columns.tolist())\n",
        "\n",
        "# 3. Colonnes de base pour l’identification de la commune\n",
        "colonnes_debut = [\n",
        "    \"Code du département\",\n",
        "    \"Libellé du département\",\n",
        "    \"Code de la commune\",\n",
        "    \"Libellé de la commune\",\n",
        "]\n",
        "\n",
        "# 4. Colonnes des candidats (nom, prénom, voix)\n",
        "colonnes_candidats = []\n",
        "for i in range(1, 12):\n",
        "    nom = f\"Nom{i if i > 1 else ''}\"\n",
        "    prenom = f\"Prénom{i if i > 1 else ''}\"\n",
        "    voix = f\"Voix{i if i > 1 else ''}\"\n",
        "    if nom in df.columns and prenom in df.columns and voix in df.columns:\n",
        "        colonnes_candidats.extend([nom, prenom, voix])\n",
        "\n",
        "# 5. Sélectionner uniquement les colonnes utiles\n",
        "colonnes = colonnes_debut + colonnes_candidats\n",
        "df = df[colonnes]\n",
        "\n",
        "# 6. Transformer les données en format long (1 ligne = 1 candidat dans 1 commune)\n",
        "data = []\n",
        "for i in range(1, 12):\n",
        "    nom_col = f\"Nom{i if i > 1 else ''}\"\n",
        "    prenom_col = f\"Prénom{i if i > 1 else ''}\"\n",
        "    voix_col = f\"Voix{i if i > 1 else ''}\"\n",
        "    if nom_col in df.columns and prenom_col in df.columns and voix_col in df.columns:\n",
        "        temp = df[colonnes_debut + [nom_col, prenom_col, voix_col]].copy()\n",
        "        temp.columns = colonnes_debut + [\"Nom\", \"Prénom\", \"Voix\"]\n",
        "        temp[\"Candidat\"] = temp[\"Prénom\"].fillna(\"\") + \" \" + temp[\"Nom\"].fillna(\"\")\n",
        "        temp = temp[colonnes_debut + [\"Candidat\", \"Voix\"]]\n",
        "        data.append(temp)\n",
        "\n",
        "df_long = pd.concat(data, ignore_index=True)\n",
        "\n",
        "# 7. Nettoyage\n",
        "df_long = df_long.dropna(subset=[\"Candidat\", \"Voix\"])\n",
        "df_long[\"Voix\"] = pd.to_numeric(df_long[\"Voix\"].astype(str).str.replace(\" \", \"\"), errors=\"coerce\")\n",
        "df_long = df_long.dropna(subset=[\"Voix\"])\n",
        "df_long = df_long[df_long[\"Voix\"] > 0]\n",
        "\n",
        "# 8. Trouver le gagnant par commune\n",
        "df_winner = df_long.sort_values(\"Voix\", ascending=False).drop_duplicates(\n",
        "    subset=[\"Code du département\", \"Code de la commune\"]\n",
        ")\n",
        "\n",
        "# 9. Sauvegarder dans un fichier CSV\n",
        "df_winner = df_winner[\n",
        "    [\"Code du département\", \"Libellé du département\", \"Code de la commune\", \"Libellé de la commune\", \"Candidat\", \"Voix\"]\n",
        "]\n",
        "df_winner.to_csv(\"gagnant_par_commune2022.csv\", index=False, encoding=\"utf-8\")\n",
        "\n",
        "print(\"✅ Fichier 'gagnant_par_commune202.csv' enregistré avec succès.\")\n"
      ],
      "metadata": {
        "colab": {
          "base_uri": "https://localhost:8080/"
        },
        "id": "R3ziK2a86_bp",
        "outputId": "31ca461a-066a-42f6-cebd-eab63b61837d"
      },
      "execution_count": 2,
      "outputs": [
        {
          "output_type": "stream",
          "name": "stderr",
          "text": [
            "<ipython-input-2-55b29d59cb31>:4: DtypeWarning: Columns (0,6) have mixed types. Specify dtype option on import or set low_memory=False.\n",
            "  df = pd.read_csv(\"2022-elections.csv\", encoding=\"ISO-8859-1\", sep=\";\", on_bad_lines='skip')\n"
          ]
        },
        {
          "output_type": "stream",
          "name": "stdout",
          "text": [
            "Colonnes disponibles : ['Code du département', 'Libellé du département', 'Code de la circonscription', 'Libellé de la circonscription', 'Code de la commune', 'Libellé de la commune', 'Code du b.vote', 'Inscrits', 'Abstentions', '% Abs/Ins', 'Votants', '% Vot/Ins', 'Blancs', '% Blancs/Ins', '% Blancs/Vot', 'Nuls', '% Nuls/Ins', '% Nuls/Vot', 'Exprimés', '% Exp/Ins', '% Exp/Vot', 'N°Panneau', 'Sexe', 'Nom', 'Prénom', 'Voix', '% Voix/Ins', '% Voix/Exp', 'N°Panneau1', 'Unnamed: 29', 'Nom1', 'Prénom1', 'Voix1', '%Voix/Ins', '%Voix/Exp', 'N°Panneau3', 'Sexe3', 'Nom3', 'Prénom3', 'Voix.1', '%Voix/Ins.1', '%Voix/Exp.1', 'N°Panneau4', 'Sexe4', 'Nom4', 'Prénom4', 'Voix4', '%Voix/Ins.2', '%Voix/Exp.2', 'N°Panneau5', 'Sexe5', 'Nom5', 'Prénom5', 'Voix5', '%Voix/Ins.3', '%Voix/Exp.3', 'N°Panneau6', 'Sexe6', 'Nom6', 'Prénom6', 'Voix7', '%Voix/Ins.4', '%Voix/Exp.4', 'N°Panneau7', 'Sexe7', 'Nom7', 'Prénom7', 'Voix7.1', '%Voix/Ins.5', '%Voix/Exp.5', 'N°Panneau8', 'Sexe8', 'Nom8', 'Prénom8', 'Voix8', '%Voix/Ins.6', '%Voix/Exp.6', 'N°Panneau.1', 'Sexe9', 'Nom9', 'Prénom.1', 'Sexe9.1', 'Voix9', '%/Voix/Ins', 'N°Panneau10', 'Sexe10', 'Nom10', 'Prénom10', 'Voix10', '%Voix/Ins.7', '%Voix/Exp.7', 'N°Panneau11', 'Sexe11', 'Nom11', 'Prénom11', 'Voix11', '%Voix/Ins.8', '%Voix/Exp.8', 'N°Panneau12', 'Sexe12', 'Nom12', 'Prénom12', 'Voix12', '%Voix/Ins.9', '%Voix/Exp.9']\n",
            "✅ Fichier 'gagnant_par_commune202.csv' enregistré avec succès.\n"
          ]
        }
      ]
    }
  ]
}